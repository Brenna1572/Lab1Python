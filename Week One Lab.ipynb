{
 "cells": [
  {
   "cell_type": "markdown",
   "metadata": {},
   "source": [
    "Taylor Miranda Brenna Hatch\n",
    "1/16/2019\n",
    "Week One Lab"
   ]
  },
  {
   "cell_type": "code",
   "execution_count": 51,
   "metadata": {},
   "outputs": [],
   "source": [
    "import numpy as np\n"
   ]
  },
  {
   "cell_type": "markdown",
   "metadata": {},
   "source": [
    "$ \\alpha= \\frac{\\Delta L}{l*\\Delta T} $"
   ]
  },
  {
   "cell_type": "code",
   "execution_count": 52,
   "metadata": {},
   "outputs": [],
   "source": [
    "def Alpha(change_L,l,change_T):\n",
    "    Alpha = change_L*l**-1*change_T**-1\n",
    "    return Alpha"
   ]
  },
  {
   "cell_type": "code",
   "execution_count": 53,
   "metadata": {},
   "outputs": [],
   "source": [
    "change_L=1.25 #mm\n",
    "l=1050 #mm\n",
    "change_T=69.1 #degree_Celcius\n",
    "\n",
    "linear_expansion= Alpha(change_L,l,change_T)\n"
   ]
  },
  {
   "cell_type": "code",
   "execution_count": 54,
   "metadata": {
    "scrolled": true
   },
   "outputs": [
    {
     "name": "stdout",
     "output_type": "stream",
     "text": [
      "Alpha =  1.7228309558266145e-05 /Degree Celcius\n"
     ]
    }
   ],
   "source": [
    "print (\"Alpha = \",linear_expansion, \"/Degree Celcius\" )"
   ]
  },
  {
   "cell_type": "code",
   "execution_count": 55,
   "metadata": {},
   "outputs": [],
   "source": [
    "def rule3(uncertainty_A3, uncertainty_B3) :\n",
    "    uncertainty_Q3= np.sqrt(uncertainty_A3**2 + uncertainty_B3**2)\n",
    "    return uncertainty_Q3\n"
   ]
  },
  {
   "cell_type": "code",
   "execution_count": 56,
   "metadata": {},
   "outputs": [],
   "source": [
    "uncertainty_A3= 0.1\n",
    "uncertainty_B3= 0.3\n",
    "\n",
    "Q = rule3(uncertainty_A3, uncertainty_B3)\n"
   ]
  },
  {
   "cell_type": "code",
   "execution_count": 57,
   "metadata": {},
   "outputs": [
    {
     "name": "stdout",
     "output_type": "stream",
     "text": [
      "Uncertainty of Q3=  0.31622776601683794 Degrees Celcius\n"
     ]
    }
   ],
   "source": [
    "print(\"Uncertainty of Q3= \", Q, \"Degrees Celcius\")"
   ]
  },
  {
   "cell_type": "code",
   "execution_count": 58,
   "metadata": {},
   "outputs": [],
   "source": [
    "def rule4(uncertainty_A, uncertainty_B, uncertainty_C, a, b, c, m, n, z, Q):\n",
    "    uncertainty_Q= Q* np.sqrt((m*uncertainty_A/a)**2 + (n*uncertainty_B/b)**2 + (z* uncertainty_C/c)**2)\n",
    "    return  uncertainty_Q\n",
    "    "
   ]
  },
  {
   "cell_type": "code",
   "execution_count": 59,
   "metadata": {},
   "outputs": [],
   "source": [
    "m= 1\n",
    "uncertainty_A= 0.01\n",
    "a= 1.25\n",
    "n= -1\n",
    "uncertainty_B= 1\n",
    "b= 1050\n",
    "z= -1\n",
    "uncertainty_C= 0.31622776601683794\n",
    "c= 69.1\n",
    "Q= 1.7228309558266145e-05\n",
    "\n",
    "Q4 = rule4(uncertainty_A, uncertainty_B, uncertainty_C, a, b, c, m, n, z, Q)\n"
   ]
  },
  {
   "cell_type": "code",
   "execution_count": 60,
   "metadata": {},
   "outputs": [
    {
     "name": "stdout",
     "output_type": "stream",
     "text": [
      "Uncertainty of Q4=  1.5962962826045274e-07 /Degree Celcius\n"
     ]
    }
   ],
   "source": [
    "print (\"Uncertainty of Q4= \", Q4, \"/Degree Celcius\")"
   ]
  },
  {
   "cell_type": "code",
   "execution_count": null,
   "metadata": {},
   "outputs": [],
   "source": []
  }
 ],
 "metadata": {
  "kernelspec": {
   "display_name": "Python 3",
   "language": "python",
   "name": "python3"
  },
  "language_info": {
   "codemirror_mode": {
    "name": "ipython",
    "version": 3
   },
   "file_extension": ".py",
   "mimetype": "text/x-python",
   "name": "python",
   "nbconvert_exporter": "python",
   "pygments_lexer": "ipython3",
   "version": "3.6.5"
  }
 },
 "nbformat": 4,
 "nbformat_minor": 2
}
